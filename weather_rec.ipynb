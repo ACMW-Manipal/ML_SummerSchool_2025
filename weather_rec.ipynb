{
 "cells": [
  {
   "cell_type": "code",
   "execution_count": 18,
   "id": "72b0d6cf",
   "metadata": {},
   "outputs": [
    {
     "name": "stdout",
     "output_type": "stream",
     "text": [
      "Original weather data is :\n",
      "\n",
      "         Day  Temperature  Humidity  Wind Speed\n",
      "0     Monday           25        60          15\n",
      "1    Tuesday           28        55          10\n",
      "2  Wednesday           30        50          20\n",
      "3   Thursday           22        70          10\n",
      "4     Friday           26        65           8\n",
      "5   Saturday           27        60           5\n",
      "6     Sunday           24        75          12\n",
      "\n",
      "Ideal score is 33.6\n",
      "\n",
      "Table after analysis:\n",
      "\n",
      "         Day  Temperature  Humidity  Wind Speed  Comfort Score  deviation\n",
      "0     Monday           25        60          15           37.0        3.4\n",
      "1    Tuesday           28        55          10           35.2        1.6\n",
      "2  Wednesday           30        50          20           36.0        2.4\n",
      "3   Thursday           22        70          10           38.8        5.2\n",
      "4     Friday           26        65           8           38.0        4.4\n",
      "5   Saturday           27        60           5           35.8        2.2\n",
      "6     Sunday           24        75          12           42.0        8.4\n",
      "\n",
      "Tuesday is the best day to go out!\n"
     ]
    }
   ],
   "source": [
    "import pandas as pd\n",
    "# import os\n",
    "# print(os.getcwd())\n",
    "\n",
    "df = pd.read_csv('weather_data.csv')\n",
    "print('Original weather data is :\\n')\n",
    "print(df)\n",
    "\n",
    "df['Comfort Score']=(df['Temperature'] * 0.4 + df['Humidity'] * 0.4 + df['Wind Speed'] * 0.2)\n",
    "\n",
    "# t=26,h=50,w=0.8\n",
    "ideal= 33.6\n",
    "print(f'\\nIdeal score is {ideal}\\n')\n",
    "\n",
    "\n",
    "df['deviation']=(df['Comfort Score']-ideal)\n",
    "print('Table after analysis:\\n')\n",
    "print(df)\n",
    "day = df[df['deviation']==df['deviation'].min()]['Day'].values[0]\n",
    "print(f'\\n{day} is the best day to go out!')"
   ]
  },
  {
   "cell_type": "code",
   "execution_count": null,
   "id": "0dcf2b44",
   "metadata": {},
   "outputs": [],
   "source": []
  },
  {
   "cell_type": "code",
   "execution_count": null,
   "id": "39d56275",
   "metadata": {},
   "outputs": [],
   "source": []
  },
  {
   "cell_type": "code",
   "execution_count": null,
   "id": "0da72763",
   "metadata": {},
   "outputs": [],
   "source": []
  },
  {
   "cell_type": "code",
   "execution_count": null,
   "id": "6ac820c5",
   "metadata": {},
   "outputs": [],
   "source": []
  }
 ],
 "metadata": {
  "kernelspec": {
   "display_name": "Python 3",
   "language": "python",
   "name": "python3"
  },
  "language_info": {
   "codemirror_mode": {
    "name": "ipython",
    "version": 3
   },
   "file_extension": ".py",
   "mimetype": "text/x-python",
   "name": "python",
   "nbconvert_exporter": "python",
   "pygments_lexer": "ipython3",
   "version": "3.8.8"
  }
 },
 "nbformat": 4,
 "nbformat_minor": 5
}
