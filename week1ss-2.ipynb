{
 "cells": [
  {
   "cell_type": "code",
   "execution_count": 33,
   "id": "215e791e-b094-476e-9bb8-26b162000c08",
   "metadata": {},
   "outputs": [],
   "source": [
    "import pandas as pd\n",
    "import numpy as np\n",
    "import seaborn as sns\n",
    "import matplotlib.pyplot as plt"
   ]
  },
  {
   "cell_type": "code",
   "execution_count": 34,
   "id": "7c6dcdf1-b71c-443b-8718-c687eea4b38a",
   "metadata": {},
   "outputs": [],
   "source": [
    "data=pd.read_csv(\"weather_data.csv\")"
   ]
  },
  {
   "cell_type": "code",
   "execution_count": 35,
   "id": "9834d2fb-29c6-4c64-932d-7e02d0c0705a",
   "metadata": {},
   "outputs": [],
   "source": [
    "df=pd.DataFrame(data)"
   ]
  },
  {
   "cell_type": "code",
   "execution_count": 36,
   "id": "05ce1496-3a25-4249-9239-1c479d4769cf",
   "metadata": {},
   "outputs": [
    {
     "name": "stdout",
     "output_type": "stream",
     "text": [
      "         Day  Temperature  Humidity  Wind Speed\n",
      "0     Monday           25        60          15\n",
      "1    Tuesday           28        55          10\n",
      "2  Wednesday           30        50          20\n",
      "3   Thursday           22        70          10\n",
      "4     Friday           26        65           8\n",
      "5   Saturday           27        60           5\n",
      "6     Sunday           24        75          12\n"
     ]
    }
   ],
   "source": [
    "print(df)"
   ]
  },
  {
   "cell_type": "code",
   "execution_count": 41,
   "id": "1287f28d-976d-4c2d-8020-35036ea43fd7",
   "metadata": {},
   "outputs": [
    {
     "name": "stdout",
     "output_type": "stream",
     "text": [
      "0    37.0\n",
      "1    35.2\n",
      "2    36.0\n",
      "3    38.8\n",
      "4    38.0\n",
      "5    35.8\n",
      "6    42.0\n",
      "dtype: float64\n"
     ]
    }
   ],
   "source": [
    "comfort={}\n",
    "for i in df[\"Day\"]:\n",
    "    comfort = df[\"Temperature\"] * 0.4 + df[\"Humidity\"] * 0.4 + df[\"Wind Speed\"]*0.2\n",
    "print(comfort)"
   ]
  },
  {
   "cell_type": "code",
   "execution_count": 56,
   "id": "c59dab62-2bb5-40f6-9998-774327d37c04",
   "metadata": {},
   "outputs": [
    {
     "name": "stdout",
     "output_type": "stream",
     "text": [
      "         Day  Temperature  Humidity  Wind Speed  comfort\n",
      "0     Monday           25        60          15     37.0\n",
      "1    Tuesday           28        55          10     35.2\n",
      "2  Wednesday           30        50          20     36.0\n",
      "3   Thursday           22        70          10     38.8\n",
      "4     Friday           26        65           8     38.0\n",
      "5   Saturday           27        60           5     35.8\n",
      "6     Sunday           24        75          12     42.0\n"
     ]
    }
   ],
   "source": [
    "df[\"comfort\"]=comfort\n",
    "print(df)"
   ]
  },
  {
   "cell_type": "code",
   "execution_count": 79,
   "id": "70f20589-d147-43ee-9567-02444c0f5cd9",
   "metadata": {},
   "outputs": [
    {
     "name": "stdout",
     "output_type": "stream",
     "text": [
      "here is the order of the week days in the descending order of the comfort based on the given weather conditions\n",
      "         Day  Temperature  Humidity  Wind Speed  comfort\n",
      "6     Sunday           24        75          12     42.0\n",
      "3   Thursday           22        70          10     38.8\n",
      "4     Friday           26        65           8     38.0\n",
      "0     Monday           25        60          15     37.0\n",
      "2  Wednesday           30        50          20     36.0\n",
      "5   Saturday           27        60           5     35.8\n",
      "1    Tuesday           28        55          10     35.2\n"
     ]
    }
   ],
   "source": [
    "print(\"here is the order of the week days in the descending order of the comfort based on the given weather conditions\")\n",
    "sorted_comfort = df.sort_values(by=\"comfort\",ascending=False)\n",
    "print(sorted_comfort)"
   ]
  },
  {
   "cell_type": "code",
   "execution_count": 81,
   "id": "f3f1148f-cb7d-49dc-9949-92f1f5a74ac8",
   "metadata": {},
   "outputs": [],
   "source": [
    "maxcomf=comfort.max()\n",
    "comfday=df[comfort==maxcomf]"
   ]
  },
  {
   "cell_type": "code",
   "execution_count": 83,
   "id": "4c46e0a8-efd5-4cac-affc-5532bd76fce4",
   "metadata": {},
   "outputs": [
    {
     "name": "stdout",
     "output_type": "stream",
     "text": [
      "      Day  Temperature  Humidity  Wind Speed  comfort\n",
      "6  Sunday           24        75          12     42.0\n"
     ]
    }
   ],
   "source": [
    "print(comfday)"
   ]
  },
  {
   "cell_type": "markdown",
   "id": "2d323dbb-c7f2-4bf2-9989-cf8dac1b03ad",
   "metadata": {},
   "source": [
    "since the weather conditions are the most favourable on Sunday, followed by Thursday, Friday,Monday,Wednesday,Saturday and Tuesday, it is recommended to plan an outing on Sunday when the comfort value is maximum. They should try to avoid the outing on Tuesday as the weather conditions are the least favourable on that day."
   ]
  },
  {
   "cell_type": "code",
   "execution_count": null,
   "id": "5e27f4b9-f3d1-4457-b1bf-beffbc02cae4",
   "metadata": {},
   "outputs": [],
   "source": []
  },
  {
   "cell_type": "code",
   "execution_count": null,
   "id": "f2bd4658-a906-4b60-a568-a36fe8ce3495",
   "metadata": {},
   "outputs": [],
   "source": []
  },
  {
   "cell_type": "code",
   "execution_count": null,
   "id": "b742b9ff-4844-477a-b4ce-44635139d50d",
   "metadata": {},
   "outputs": [],
   "source": []
  }
 ],
 "metadata": {
  "kernelspec": {
   "display_name": "Python 3 (ipykernel)",
   "language": "python",
   "name": "python3"
  },
  "language_info": {
   "codemirror_mode": {
    "name": "ipython",
    "version": 3
   },
   "file_extension": ".py",
   "mimetype": "text/x-python",
   "name": "python",
   "nbconvert_exporter": "python",
   "pygments_lexer": "ipython3",
   "version": "3.12.7"
  }
 },
 "nbformat": 4,
 "nbformat_minor": 5
}
