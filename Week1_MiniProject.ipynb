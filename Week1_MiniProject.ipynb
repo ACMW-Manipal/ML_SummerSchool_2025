{
 "cells": [
  {
   "cell_type": "code",
   "execution_count": 2,
   "id": "36d27a40-88b9-4d86-934f-dc6e11aeeca8",
   "metadata": {},
   "outputs": [],
   "source": [
    "import pandas as pd\n"
   ]
  },
  {
   "cell_type": "code",
   "execution_count": 3,
   "id": "7986ec31-f12e-427a-a1f0-d25c816a541a",
   "metadata": {},
   "outputs": [
    {
     "name": "stdout",
     "output_type": "stream",
     "text": [
      "         Day  Temperature  Humidity  Wind Speed\n",
      "0     Monday           25        60          15\n",
      "1    Tuesday           28        55          10\n",
      "2  Wednesday           30        50          20\n",
      "3   Thursday           22        70          10\n",
      "4     Friday           26        65           8\n",
      "5   Saturday           27        60           5\n",
      "6     Sunday           24        75          12\n"
     ]
    }
   ],
   "source": [
    "df=pd.read_csv('weather_data.csv')\n",
    "print(df)"
   ]
  },
  {
   "cell_type": "code",
   "execution_count": 16,
   "id": "29ca0694-5220-4efa-92e5-a4cefb8d24e2",
   "metadata": {},
   "outputs": [],
   "source": [
    "df['comfort'] = (df['Temperature'] * 0.4) +(df['Humidity'] * 0.4) + (df['Wind Speed'] * 0.2)"
   ]
  },
  {
   "cell_type": "code",
   "execution_count": 8,
   "id": "479a07ad-d585-4b64-b93b-cf9770add7b5",
   "metadata": {},
   "outputs": [
    {
     "name": "stdout",
     "output_type": "stream",
     "text": [
      "         Day\n",
      "0     Monday\n",
      "1    Tuesday\n",
      "2  Wednesday\n",
      "3   Thursday\n",
      "4     Friday\n",
      "5   Saturday\n",
      "6     Sunday\n"
     ]
    }
   ],
   "source": [
    "print(df[['Day']])"
   ]
  },
  {
   "cell_type": "code",
   "execution_count": 17,
   "id": "c8a31a2d-e9a2-4628-9035-edaa7c9dd2a8",
   "metadata": {},
   "outputs": [
    {
     "name": "stdout",
     "output_type": "stream",
     "text": [
      "         Day  Temperature  Humidity  Wind Speed  comfort\n",
      "0     Monday           25        60          15     37.0\n",
      "1    Tuesday           28        55          10     35.2\n",
      "2  Wednesday           30        50          20     36.0\n",
      "3   Thursday           22        70          10     38.8\n",
      "4     Friday           26        65           8     38.0\n",
      "5   Saturday           27        60           5     35.8\n",
      "6     Sunday           24        75          12     42.0\n"
     ]
    }
   ],
   "source": [
    "print(df)"
   ]
  },
  {
   "cell_type": "code",
   "execution_count": 18,
   "id": "afb96b57-2056-4f72-a64e-85fa46b7715f",
   "metadata": {},
   "outputs": [
    {
     "name": "stdout",
     "output_type": "stream",
     "text": [
      "         Day  Temperature  Humidity  Wind Speed  comfort\n",
      "6     Sunday           24        75          12     42.0\n",
      "3   Thursday           22        70          10     38.8\n",
      "4     Friday           26        65           8     38.0\n",
      "0     Monday           25        60          15     37.0\n",
      "2  Wednesday           30        50          20     36.0\n",
      "5   Saturday           27        60           5     35.8\n",
      "1    Tuesday           28        55          10     35.2\n"
     ]
    }
   ],
   "source": [
    "print(df.sort_values('comfort',ascending=False))\n",
    "#sunday is supposed to be the best day for outing"
   ]
  },
  {
   "cell_type": "code",
   "execution_count": 20,
   "id": "c5731879-3400-4795-bc6a-5495af2d8e01",
   "metadata": {},
   "outputs": [
    {
     "name": "stdout",
     "output_type": "stream",
     "text": [
      "         Day  Temperature  Humidity  Wind Speed  comfort\n",
      "2  Wednesday           30        50          20     36.0\n",
      "1    Tuesday           28        55          10     35.2\n",
      "5   Saturday           27        60           5     35.8\n",
      "4     Friday           26        65           8     38.0\n",
      "0     Monday           25        60          15     37.0\n",
      "6     Sunday           24        75          12     42.0\n",
      "3   Thursday           22        70          10     38.8\n"
     ]
    }
   ],
   "source": [
    "print(df.sort_values('Temperature',ascending=False))\n",
    "##max temperature on wednesday least on a thursday"
   ]
  },
  {
   "cell_type": "code",
   "execution_count": 21,
   "id": "60688476-1796-4fb3-b015-cbbb93fd6da6",
   "metadata": {},
   "outputs": [
    {
     "name": "stdout",
     "output_type": "stream",
     "text": [
      "         Day  Temperature  Humidity  Wind Speed  comfort\n",
      "6     Sunday           24        75          12     42.0\n",
      "3   Thursday           22        70          10     38.8\n",
      "4     Friday           26        65           8     38.0\n",
      "0     Monday           25        60          15     37.0\n",
      "5   Saturday           27        60           5     35.8\n",
      "1    Tuesday           28        55          10     35.2\n",
      "2  Wednesday           30        50          20     36.0\n"
     ]
    }
   ],
   "source": [
    "print(df.sort_values('Humidity',ascending=False))\n",
    "##max humidity on a sunday"
   ]
  },
  {
   "cell_type": "code",
   "execution_count": 22,
   "id": "a547e501-0713-41de-b3b9-90264cf701d7",
   "metadata": {},
   "outputs": [
    {
     "name": "stdout",
     "output_type": "stream",
     "text": [
      "         Day  Temperature  Humidity  Wind Speed  comfort\n",
      "2  Wednesday           30        50          20     36.0\n",
      "0     Monday           25        60          15     37.0\n",
      "6     Sunday           24        75          12     42.0\n",
      "1    Tuesday           28        55          10     35.2\n",
      "3   Thursday           22        70          10     38.8\n",
      "4     Friday           26        65           8     38.0\n",
      "5   Saturday           27        60           5     35.8\n"
     ]
    }
   ],
   "source": [
    "print(df.sort_values('Wind Speed',ascending=False))\n",
    "##max wind speed on a wednesday"
   ]
  },
  {
   "cell_type": "code",
   "execution_count": 28,
   "id": "709a965b-3d38-4f1e-a8d6-4634db99f9aa",
   "metadata": {},
   "outputs": [
    {
     "data": {
      "text/plain": [
       "Temperature    26.000000\n",
       "Humidity       62.142857\n",
       "Wind Speed     11.428571\n",
       "comfort        37.542857\n",
       "dtype: float64"
      ]
     },
     "execution_count": 28,
     "metadata": {},
     "output_type": "execute_result"
    }
   ],
   "source": [
    "\n",
    "df.mean(numeric_only=True)\n"
   ]
  },
  {
   "cell_type": "code",
   "execution_count": 29,
   "id": "4f8b0a16-d17d-495f-a53d-67e26d5b146d",
   "metadata": {},
   "outputs": [
    {
     "data": {
      "text/plain": [
       "'Tuesday'"
      ]
     },
     "execution_count": 29,
     "metadata": {},
     "output_type": "execute_result"
    }
   ],
   "source": [
    "df.loc[df['comfort'].idxmin()]['Day']   "
   ]
  },
  {
   "cell_type": "code",
   "execution_count": 31,
   "id": "b878d747-62e0-4ee1-8293-b3eba531aa00",
   "metadata": {},
   "outputs": [
    {
     "name": "stdout",
     "output_type": "stream",
     "text": [
      " Temperature    22.0\n",
      "Humidity       60.0\n",
      "Wind Speed     10.0\n",
      "comfort        35.2\n",
      "Name: 0, dtype: float64\n"
     ]
    }
   ],
   "source": [
    "print(\"\", df.mode(numeric_only=True).iloc[0])"
   ]
  },
  {
   "cell_type": "markdown",
   "id": "959bcf61-beb4-4cf4-b0d4-98d30b98b8e9",
   "metadata": {},
   "source": [
    "<h1>to get saturday... we need windspeed-low, humidity-avg temp-avg comfort-low</h1>\n"
   ]
  },
  {
   "cell_type": "code",
   "execution_count": 40,
   "id": "914b43fe-a89a-4e4b-bb98-48a172313c05",
   "metadata": {},
   "outputs": [],
   "source": [
    "avg_temp = df['Temperature'].mean()\n",
    "avg_humidity = df['Humidity'].mean()\n",
    "min_wind = df['Wind Speed'].min()\n",
    "min_comfort = df['comfort'].min()"
   ]
  },
  {
   "cell_type": "code",
   "execution_count": 41,
   "id": "98464253-22ea-41a1-9805-b2fea6f26014",
   "metadata": {},
   "outputs": [
    {
     "name": "stdout",
     "output_type": "stream",
     "text": [
      "         Day  Temperature  Humidity  Wind Speed  comfort      Score\n",
      "0     Monday           25        60          15     37.0   8.657143\n",
      "1    Tuesday           28        55          10     35.2  -0.142857\n",
      "2  Wednesday           30        50          20     36.0   7.657143\n",
      "3   Thursday           22        70          10     38.8  12.457143\n",
      "4     Friday           26        65           8     38.0   8.657143\n",
      "5   Saturday           27        60           5     35.8  -0.542857\n",
      "6     Sunday           24        75          12     42.0  24.657143\n"
     ]
    }
   ],
   "source": [
    "df['Score'] = ((df['Temperature'] - avg_temp) + (df['Humidity'] - avg_humidity) +(df['Wind Speed'] - min_wind) +(df['comfort'] - min_comfort) )\n",
    "print(df)"
   ]
  },
  {
   "cell_type": "code",
   "execution_count": 44,
   "id": "abef47dd-d06e-488a-ba58-7ecbfc96891b",
   "metadata": {},
   "outputs": [
    {
     "name": "stdout",
     "output_type": "stream",
     "text": [
      "Day            Saturday\n",
      "Temperature          27\n",
      "Humidity             60\n",
      "Wind Speed            5\n",
      "comfort            35.8\n",
      "Score         -0.542857\n",
      "Name: 5, dtype: object\n",
      "\n",
      "Saturday\n"
     ]
    }
   ],
   "source": [
    "best_match = df.loc[df['Score'].idxmin()]\n",
    "print(best_match)\n",
    "print()\n",
    "print(best_match['Day'])"
   ]
  },
  {
   "cell_type": "markdown",
   "id": "fa54e316-d6a6-47fe-ab51-51193319c8f6",
   "metadata": {},
   "source": [
    "<h1>Saturday is the best day to go out based on comfort score</h1>"
   ]
  },
  {
   "cell_type": "code",
   "execution_count": null,
   "id": "d419fa35-915e-4fde-b7a7-98b694b142c7",
   "metadata": {},
   "outputs": [],
   "source": []
  }
 ],
 "metadata": {
  "kernelspec": {
   "display_name": "Python 3 (ipykernel)",
   "language": "python",
   "name": "python3"
  },
  "language_info": {
   "codemirror_mode": {
    "name": "ipython",
    "version": 3
   },
   "file_extension": ".py",
   "mimetype": "text/x-python",
   "name": "python",
   "nbconvert_exporter": "python",
   "pygments_lexer": "ipython3",
   "version": "3.12.3"
  }
 },
 "nbformat": 4,
 "nbformat_minor": 5
}
