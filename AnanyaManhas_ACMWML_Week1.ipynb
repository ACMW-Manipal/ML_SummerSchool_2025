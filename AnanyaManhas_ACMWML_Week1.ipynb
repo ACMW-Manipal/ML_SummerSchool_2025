{
  "cells": [
    {
      "cell_type": "code",
      "execution_count": 10,
      "metadata": {
        "id": "v7WJdK1qDAjR"
      },
      "outputs": [],
      "source": [
        "import pandas as pd\n",
        "import numpy as np"
      ]
    },
    {
      "cell_type": "code",
      "execution_count": 11,
      "metadata": {
        "colab": {
          "base_uri": "https://localhost:8080/",
          "height": 269
        },
        "id": "D-EJwD4mDSB3",
        "outputId": "8bc7e833-9d43-4f8f-a422-07c740296835"
      },
      "outputs": [
        {
          "data": {
            "text/html": [
              "<div>\n",
              "<style scoped>\n",
              "    .dataframe tbody tr th:only-of-type {\n",
              "        vertical-align: middle;\n",
              "    }\n",
              "\n",
              "    .dataframe tbody tr th {\n",
              "        vertical-align: top;\n",
              "    }\n",
              "\n",
              "    .dataframe thead th {\n",
              "        text-align: right;\n",
              "    }\n",
              "</style>\n",
              "<table border=\"1\" class=\"dataframe\">\n",
              "  <thead>\n",
              "    <tr style=\"text-align: right;\">\n",
              "      <th></th>\n",
              "      <th>Day</th>\n",
              "      <th>Temperature</th>\n",
              "      <th>Humidity</th>\n",
              "      <th>Wind Speed</th>\n",
              "    </tr>\n",
              "  </thead>\n",
              "  <tbody>\n",
              "    <tr>\n",
              "      <th>0</th>\n",
              "      <td>Monday</td>\n",
              "      <td>25</td>\n",
              "      <td>60</td>\n",
              "      <td>15</td>\n",
              "    </tr>\n",
              "    <tr>\n",
              "      <th>1</th>\n",
              "      <td>Tuesday</td>\n",
              "      <td>28</td>\n",
              "      <td>55</td>\n",
              "      <td>10</td>\n",
              "    </tr>\n",
              "    <tr>\n",
              "      <th>2</th>\n",
              "      <td>Wednesday</td>\n",
              "      <td>30</td>\n",
              "      <td>50</td>\n",
              "      <td>20</td>\n",
              "    </tr>\n",
              "    <tr>\n",
              "      <th>3</th>\n",
              "      <td>Thursday</td>\n",
              "      <td>22</td>\n",
              "      <td>70</td>\n",
              "      <td>10</td>\n",
              "    </tr>\n",
              "    <tr>\n",
              "      <th>4</th>\n",
              "      <td>Friday</td>\n",
              "      <td>26</td>\n",
              "      <td>65</td>\n",
              "      <td>8</td>\n",
              "    </tr>\n",
              "    <tr>\n",
              "      <th>5</th>\n",
              "      <td>Saturday</td>\n",
              "      <td>27</td>\n",
              "      <td>60</td>\n",
              "      <td>5</td>\n",
              "    </tr>\n",
              "    <tr>\n",
              "      <th>6</th>\n",
              "      <td>Sunday</td>\n",
              "      <td>24</td>\n",
              "      <td>75</td>\n",
              "      <td>12</td>\n",
              "    </tr>\n",
              "  </tbody>\n",
              "</table>\n",
              "</div>"
            ],
            "text/plain": [
              "         Day  Temperature  Humidity  Wind Speed\n",
              "0     Monday           25        60          15\n",
              "1    Tuesday           28        55          10\n",
              "2  Wednesday           30        50          20\n",
              "3   Thursday           22        70          10\n",
              "4     Friday           26        65           8\n",
              "5   Saturday           27        60           5\n",
              "6     Sunday           24        75          12"
            ]
          },
          "execution_count": 11,
          "metadata": {},
          "output_type": "execute_result"
        }
      ],
      "source": [
        "df = pd.read_csv('weather_data.csv')\n",
        "df"
      ]
    },
    {
      "cell_type": "code",
      "execution_count": 12,
      "metadata": {
        "id": "pOlRa_sYDaEP"
      },
      "outputs": [],
      "source": [
        "df['Comfort'] = df['Temperature'] * 0.4 + df['Humidity'] * 0.4 + df['Wind Speed'] * 0.2"
      ]
    },
    {
      "cell_type": "code",
      "execution_count": 13,
      "metadata": {
        "colab": {
          "base_uri": "https://localhost:8080/",
          "height": 269
        },
        "id": "bsW9AM-iDosN",
        "outputId": "0ff1a910-dc52-441e-a67b-60ff8f429523"
      },
      "outputs": [
        {
          "data": {
            "text/html": [
              "<div>\n",
              "<style scoped>\n",
              "    .dataframe tbody tr th:only-of-type {\n",
              "        vertical-align: middle;\n",
              "    }\n",
              "\n",
              "    .dataframe tbody tr th {\n",
              "        vertical-align: top;\n",
              "    }\n",
              "\n",
              "    .dataframe thead th {\n",
              "        text-align: right;\n",
              "    }\n",
              "</style>\n",
              "<table border=\"1\" class=\"dataframe\">\n",
              "  <thead>\n",
              "    <tr style=\"text-align: right;\">\n",
              "      <th></th>\n",
              "      <th>Day</th>\n",
              "      <th>Temperature</th>\n",
              "      <th>Humidity</th>\n",
              "      <th>Wind Speed</th>\n",
              "      <th>Comfort</th>\n",
              "    </tr>\n",
              "  </thead>\n",
              "  <tbody>\n",
              "    <tr>\n",
              "      <th>6</th>\n",
              "      <td>Sunday</td>\n",
              "      <td>24</td>\n",
              "      <td>75</td>\n",
              "      <td>12</td>\n",
              "      <td>42.0</td>\n",
              "    </tr>\n",
              "    <tr>\n",
              "      <th>3</th>\n",
              "      <td>Thursday</td>\n",
              "      <td>22</td>\n",
              "      <td>70</td>\n",
              "      <td>10</td>\n",
              "      <td>38.8</td>\n",
              "    </tr>\n",
              "    <tr>\n",
              "      <th>4</th>\n",
              "      <td>Friday</td>\n",
              "      <td>26</td>\n",
              "      <td>65</td>\n",
              "      <td>8</td>\n",
              "      <td>38.0</td>\n",
              "    </tr>\n",
              "    <tr>\n",
              "      <th>0</th>\n",
              "      <td>Monday</td>\n",
              "      <td>25</td>\n",
              "      <td>60</td>\n",
              "      <td>15</td>\n",
              "      <td>37.0</td>\n",
              "    </tr>\n",
              "    <tr>\n",
              "      <th>2</th>\n",
              "      <td>Wednesday</td>\n",
              "      <td>30</td>\n",
              "      <td>50</td>\n",
              "      <td>20</td>\n",
              "      <td>36.0</td>\n",
              "    </tr>\n",
              "    <tr>\n",
              "      <th>5</th>\n",
              "      <td>Saturday</td>\n",
              "      <td>27</td>\n",
              "      <td>60</td>\n",
              "      <td>5</td>\n",
              "      <td>35.8</td>\n",
              "    </tr>\n",
              "    <tr>\n",
              "      <th>1</th>\n",
              "      <td>Tuesday</td>\n",
              "      <td>28</td>\n",
              "      <td>55</td>\n",
              "      <td>10</td>\n",
              "      <td>35.2</td>\n",
              "    </tr>\n",
              "  </tbody>\n",
              "</table>\n",
              "</div>"
            ],
            "text/plain": [
              "         Day  Temperature  Humidity  Wind Speed  Comfort\n",
              "6     Sunday           24        75          12     42.0\n",
              "3   Thursday           22        70          10     38.8\n",
              "4     Friday           26        65           8     38.0\n",
              "0     Monday           25        60          15     37.0\n",
              "2  Wednesday           30        50          20     36.0\n",
              "5   Saturday           27        60           5     35.8\n",
              "1    Tuesday           28        55          10     35.2"
            ]
          },
          "execution_count": 13,
          "metadata": {},
          "output_type": "execute_result"
        }
      ],
      "source": [
        "df.sort_values('Comfort',ascending = False)"
      ]
    },
    {
      "cell_type": "code",
      "execution_count": 14,
      "metadata": {
        "colab": {
          "base_uri": "https://localhost:8080/"
        },
        "id": "QLasQIH9EViw",
        "outputId": "8c41a5c3-8818-44cb-8c66-9044324471c4"
      },
      "outputs": [
        {
          "name": "stdout",
          "output_type": "stream",
          "text": [
            "Sunday is the best day to go out based on the original comfort score\n"
          ]
        }
      ],
      "source": [
        "print(df.loc[df['Comfort'].idxmax(),'Day'],\"is the best day to go out based on the original comfort score\")"
      ]
    },
    {
      "cell_type": "markdown",
      "metadata": {
        "id": "7177BlkGEzlP"
      },
      "source": [
        "\n",
        "To see the effect of weightages we can give higher priority to temp than the other factors and see the results"
      ]
    },
    {
      "cell_type": "code",
      "execution_count": 15,
      "metadata": {
        "id": "NdHTscPgDr5w"
      },
      "outputs": [],
      "source": [
        "df['Comfort_Mod'] = df['Temperature'] * 0.7 + df['Humidity'] * 0.4 + df['Wind Speed'] * 0.2"
      ]
    },
    {
      "cell_type": "code",
      "execution_count": 16,
      "metadata": {
        "colab": {
          "base_uri": "https://localhost:8080/",
          "height": 269
        },
        "id": "U9u4GhS4E-6X",
        "outputId": "4b7eb97d-f889-4ab5-f059-a2a3f99c3054"
      },
      "outputs": [
        {
          "data": {
            "text/html": [
              "<div>\n",
              "<style scoped>\n",
              "    .dataframe tbody tr th:only-of-type {\n",
              "        vertical-align: middle;\n",
              "    }\n",
              "\n",
              "    .dataframe tbody tr th {\n",
              "        vertical-align: top;\n",
              "    }\n",
              "\n",
              "    .dataframe thead th {\n",
              "        text-align: right;\n",
              "    }\n",
              "</style>\n",
              "<table border=\"1\" class=\"dataframe\">\n",
              "  <thead>\n",
              "    <tr style=\"text-align: right;\">\n",
              "      <th></th>\n",
              "      <th>Day</th>\n",
              "      <th>Temperature</th>\n",
              "      <th>Humidity</th>\n",
              "      <th>Wind Speed</th>\n",
              "      <th>Comfort</th>\n",
              "      <th>Comfort_Mod</th>\n",
              "    </tr>\n",
              "  </thead>\n",
              "  <tbody>\n",
              "    <tr>\n",
              "      <th>6</th>\n",
              "      <td>Sunday</td>\n",
              "      <td>24</td>\n",
              "      <td>75</td>\n",
              "      <td>12</td>\n",
              "      <td>42.0</td>\n",
              "      <td>49.2</td>\n",
              "    </tr>\n",
              "    <tr>\n",
              "      <th>4</th>\n",
              "      <td>Friday</td>\n",
              "      <td>26</td>\n",
              "      <td>65</td>\n",
              "      <td>8</td>\n",
              "      <td>38.0</td>\n",
              "      <td>45.8</td>\n",
              "    </tr>\n",
              "    <tr>\n",
              "      <th>3</th>\n",
              "      <td>Thursday</td>\n",
              "      <td>22</td>\n",
              "      <td>70</td>\n",
              "      <td>10</td>\n",
              "      <td>38.8</td>\n",
              "      <td>45.4</td>\n",
              "    </tr>\n",
              "    <tr>\n",
              "      <th>2</th>\n",
              "      <td>Wednesday</td>\n",
              "      <td>30</td>\n",
              "      <td>50</td>\n",
              "      <td>20</td>\n",
              "      <td>36.0</td>\n",
              "      <td>45.0</td>\n",
              "    </tr>\n",
              "    <tr>\n",
              "      <th>0</th>\n",
              "      <td>Monday</td>\n",
              "      <td>25</td>\n",
              "      <td>60</td>\n",
              "      <td>15</td>\n",
              "      <td>37.0</td>\n",
              "      <td>44.5</td>\n",
              "    </tr>\n",
              "    <tr>\n",
              "      <th>5</th>\n",
              "      <td>Saturday</td>\n",
              "      <td>27</td>\n",
              "      <td>60</td>\n",
              "      <td>5</td>\n",
              "      <td>35.8</td>\n",
              "      <td>43.9</td>\n",
              "    </tr>\n",
              "    <tr>\n",
              "      <th>1</th>\n",
              "      <td>Tuesday</td>\n",
              "      <td>28</td>\n",
              "      <td>55</td>\n",
              "      <td>10</td>\n",
              "      <td>35.2</td>\n",
              "      <td>43.6</td>\n",
              "    </tr>\n",
              "  </tbody>\n",
              "</table>\n",
              "</div>"
            ],
            "text/plain": [
              "         Day  Temperature  Humidity  Wind Speed  Comfort  Comfort_Mod\n",
              "6     Sunday           24        75          12     42.0         49.2\n",
              "4     Friday           26        65           8     38.0         45.8\n",
              "3   Thursday           22        70          10     38.8         45.4\n",
              "2  Wednesday           30        50          20     36.0         45.0\n",
              "0     Monday           25        60          15     37.0         44.5\n",
              "5   Saturday           27        60           5     35.8         43.9\n",
              "1    Tuesday           28        55          10     35.2         43.6"
            ]
          },
          "execution_count": 16,
          "metadata": {},
          "output_type": "execute_result"
        }
      ],
      "source": [
        "df.sort_values('Comfort_Mod',ascending = False)"
      ]
    },
    {
      "cell_type": "code",
      "execution_count": 17,
      "metadata": {
        "colab": {
          "base_uri": "https://localhost:8080/"
        },
        "id": "KNJY_46sFCvo",
        "outputId": "a90498a5-6e34-4314-965c-93858881e456"
      },
      "outputs": [
        {
          "name": "stdout",
          "output_type": "stream",
          "text": [
            "Sunday is the best day to go out based on the modified comfort score\n"
          ]
        }
      ],
      "source": [
        "print(df.loc[df['Comfort_Mod'].idxmax(),'Day'],\"is the best day to go out based on the modified comfort score\")"
      ]
    },
    {
      "cell_type": "markdown",
      "metadata": {},
      "source": [
        "\n",
        "We can further see the effect of weightages by giving higher priority to humidity than the other factors and see the results"
      ]
    },
    {
      "cell_type": "code",
      "execution_count": 18,
      "metadata": {
        "id": "G8Bz6Uk9FTlY"
      },
      "outputs": [],
      "source": [
        "df['Comfort_Mod'] = df['Temperature'] * 0.4 + df['Humidity'] * 0.8 + df['Wind Speed'] * 0.2"
      ]
    },
    {
      "cell_type": "code",
      "execution_count": 19,
      "metadata": {},
      "outputs": [
        {
          "data": {
            "text/html": [
              "<div>\n",
              "<style scoped>\n",
              "    .dataframe tbody tr th:only-of-type {\n",
              "        vertical-align: middle;\n",
              "    }\n",
              "\n",
              "    .dataframe tbody tr th {\n",
              "        vertical-align: top;\n",
              "    }\n",
              "\n",
              "    .dataframe thead th {\n",
              "        text-align: right;\n",
              "    }\n",
              "</style>\n",
              "<table border=\"1\" class=\"dataframe\">\n",
              "  <thead>\n",
              "    <tr style=\"text-align: right;\">\n",
              "      <th></th>\n",
              "      <th>Day</th>\n",
              "      <th>Temperature</th>\n",
              "      <th>Humidity</th>\n",
              "      <th>Wind Speed</th>\n",
              "      <th>Comfort</th>\n",
              "      <th>Comfort_Mod</th>\n",
              "    </tr>\n",
              "  </thead>\n",
              "  <tbody>\n",
              "    <tr>\n",
              "      <th>6</th>\n",
              "      <td>Sunday</td>\n",
              "      <td>24</td>\n",
              "      <td>75</td>\n",
              "      <td>12</td>\n",
              "      <td>42.0</td>\n",
              "      <td>72.0</td>\n",
              "    </tr>\n",
              "    <tr>\n",
              "      <th>3</th>\n",
              "      <td>Thursday</td>\n",
              "      <td>22</td>\n",
              "      <td>70</td>\n",
              "      <td>10</td>\n",
              "      <td>38.8</td>\n",
              "      <td>66.8</td>\n",
              "    </tr>\n",
              "    <tr>\n",
              "      <th>4</th>\n",
              "      <td>Friday</td>\n",
              "      <td>26</td>\n",
              "      <td>65</td>\n",
              "      <td>8</td>\n",
              "      <td>38.0</td>\n",
              "      <td>64.0</td>\n",
              "    </tr>\n",
              "    <tr>\n",
              "      <th>0</th>\n",
              "      <td>Monday</td>\n",
              "      <td>25</td>\n",
              "      <td>60</td>\n",
              "      <td>15</td>\n",
              "      <td>37.0</td>\n",
              "      <td>61.0</td>\n",
              "    </tr>\n",
              "    <tr>\n",
              "      <th>2</th>\n",
              "      <td>Wednesday</td>\n",
              "      <td>30</td>\n",
              "      <td>50</td>\n",
              "      <td>20</td>\n",
              "      <td>36.0</td>\n",
              "      <td>56.0</td>\n",
              "    </tr>\n",
              "    <tr>\n",
              "      <th>5</th>\n",
              "      <td>Saturday</td>\n",
              "      <td>27</td>\n",
              "      <td>60</td>\n",
              "      <td>5</td>\n",
              "      <td>35.8</td>\n",
              "      <td>59.8</td>\n",
              "    </tr>\n",
              "    <tr>\n",
              "      <th>1</th>\n",
              "      <td>Tuesday</td>\n",
              "      <td>28</td>\n",
              "      <td>55</td>\n",
              "      <td>10</td>\n",
              "      <td>35.2</td>\n",
              "      <td>57.2</td>\n",
              "    </tr>\n",
              "  </tbody>\n",
              "</table>\n",
              "</div>"
            ],
            "text/plain": [
              "         Day  Temperature  Humidity  Wind Speed  Comfort  Comfort_Mod\n",
              "6     Sunday           24        75          12     42.0         72.0\n",
              "3   Thursday           22        70          10     38.8         66.8\n",
              "4     Friday           26        65           8     38.0         64.0\n",
              "0     Monday           25        60          15     37.0         61.0\n",
              "2  Wednesday           30        50          20     36.0         56.0\n",
              "5   Saturday           27        60           5     35.8         59.8\n",
              "1    Tuesday           28        55          10     35.2         57.2"
            ]
          },
          "execution_count": 19,
          "metadata": {},
          "output_type": "execute_result"
        }
      ],
      "source": [
        "df.sort_values('Comfort',ascending = False)"
      ]
    },
    {
      "cell_type": "code",
      "execution_count": 20,
      "metadata": {},
      "outputs": [
        {
          "name": "stdout",
          "output_type": "stream",
          "text": [
            "Sunday is the best day to go out based on the modified comfort score\n"
          ]
        }
      ],
      "source": [
        "print(df.loc[df['Comfort_Mod'].idxmax(),'Day'],\"is the best day to go out based on the modified comfort score\")\n"
      ]
    },
    {
      "cell_type": "code",
      "execution_count": null,
      "metadata": {},
      "outputs": [],
      "source": []
    }
  ],
  "metadata": {
    "colab": {
      "provenance": []
    },
    "kernelspec": {
      "display_name": "Python 3",
      "name": "python3"
    },
    "language_info": {
      "codemirror_mode": {
        "name": "ipython",
        "version": 3
      },
      "file_extension": ".py",
      "mimetype": "text/x-python",
      "name": "python",
      "nbconvert_exporter": "python",
      "pygments_lexer": "ipython3",
      "version": "3.13.2"
    }
  },
  "nbformat": 4,
  "nbformat_minor": 0
}
