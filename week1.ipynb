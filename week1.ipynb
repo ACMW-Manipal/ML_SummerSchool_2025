{
  "metadata": {
    "kernelspec": {
      "name": "python",
      "display_name": "Python (Pyodide)",
      "language": "python"
    },
    "language_info": {
      "codemirror_mode": {
        "name": "python",
        "version": 3
      },
      "file_extension": ".py",
      "mimetype": "text/x-python",
      "name": "python",
      "nbconvert_exporter": "python",
      "pygments_lexer": "ipython3",
      "version": "3.8"
    }
  },
  "nbformat_minor": 5,
  "nbformat": 4,
  "cells": [
    {
      "id": "3bc6e65d-c007-49df-88aa-506d1185ac4d",
      "cell_type": "code",
      "source": "\nimport pandas as pd\nimport numpy as np\nfrom IPython.display import display, Markdown\n\ndata = {\n        'Day': ['Monday', 'Tuesday', 'Wednesday', 'Thursday', 'Friday', 'Saturday', 'Sunday'],\n        'Temperature': [25, 28, 30, 22, 26, 27, 24],\n        'Humidity': [60, 55, 50, 70, 65, 60, 75],\n        'Wind Speed': [15, 10, 20, 10, 8, 5, 12]\n    }\ndf = pd.DataFrame(data)\n\nprint(\"\\nOriginal Weather Data\")\ndisplay(df)",
      "metadata": {
        "trusted": true
      },
      "outputs": [
        {
          "name": "stdout",
          "output_type": "stream",
          "text": "\nOriginal Weather Data\n"
        },
        {
          "output_type": "display_data",
          "data": {
            "text/plain": "         Day  Temperature  Humidity  Wind Speed\n0     Monday           25        60          15\n1    Tuesday           28        55          10\n2  Wednesday           30        50          20\n3   Thursday           22        70          10\n4     Friday           26        65           8\n5   Saturday           27        60           5\n6     Sunday           24        75          12",
            "text/html": "<div>\n<style scoped>\n    .dataframe tbody tr th:only-of-type {\n        vertical-align: middle;\n    }\n\n    .dataframe tbody tr th {\n        vertical-align: top;\n    }\n\n    .dataframe thead th {\n        text-align: right;\n    }\n</style>\n<table border=\"1\" class=\"dataframe\">\n  <thead>\n    <tr style=\"text-align: right;\">\n      <th></th>\n      <th>Day</th>\n      <th>Temperature</th>\n      <th>Humidity</th>\n      <th>Wind Speed</th>\n    </tr>\n  </thead>\n  <tbody>\n    <tr>\n      <th>0</th>\n      <td>Monday</td>\n      <td>25</td>\n      <td>60</td>\n      <td>15</td>\n    </tr>\n    <tr>\n      <th>1</th>\n      <td>Tuesday</td>\n      <td>28</td>\n      <td>55</td>\n      <td>10</td>\n    </tr>\n    <tr>\n      <th>2</th>\n      <td>Wednesday</td>\n      <td>30</td>\n      <td>50</td>\n      <td>20</td>\n    </tr>\n    <tr>\n      <th>3</th>\n      <td>Thursday</td>\n      <td>22</td>\n      <td>70</td>\n      <td>10</td>\n    </tr>\n    <tr>\n      <th>4</th>\n      <td>Friday</td>\n      <td>26</td>\n      <td>65</td>\n      <td>8</td>\n    </tr>\n    <tr>\n      <th>5</th>\n      <td>Saturday</td>\n      <td>27</td>\n      <td>60</td>\n      <td>5</td>\n    </tr>\n    <tr>\n      <th>6</th>\n      <td>Sunday</td>\n      <td>24</td>\n      <td>75</td>\n      <td>12</td>\n    </tr>\n  </tbody>\n</table>\n</div>"
          },
          "metadata": {}
        }
      ],
      "execution_count": 16
    },
    {
      "id": "04857ad5-a6c2-4cbd-90ce-c85fa3e59dca",
      "cell_type": "code",
      "source": "df['Comfort Score'] = (df['Temperature'] * 0.4 +\n                       df['Humidity'] * 0.4 +\n                       df['Wind Speed'] * 0.2)\n\nprint(\"Weather Data with Calculated Comfort Scores\")\ndisplay(df)",
      "metadata": {
        "trusted": true
      },
      "outputs": [
        {
          "name": "stdout",
          "output_type": "stream",
          "text": "Weather Data with Calculated Comfort Scores\n"
        },
        {
          "output_type": "display_data",
          "data": {
            "text/plain": "         Day  Temperature  Humidity  Wind Speed  Comfort Score\n0     Monday           25        60          15           37.0\n1    Tuesday           28        55          10           35.2\n2  Wednesday           30        50          20           36.0\n3   Thursday           22        70          10           38.8\n4     Friday           26        65           8           38.0\n5   Saturday           27        60           5           35.8\n6     Sunday           24        75          12           42.0",
            "text/html": "<div>\n<style scoped>\n    .dataframe tbody tr th:only-of-type {\n        vertical-align: middle;\n    }\n\n    .dataframe tbody tr th {\n        vertical-align: top;\n    }\n\n    .dataframe thead th {\n        text-align: right;\n    }\n</style>\n<table border=\"1\" class=\"dataframe\">\n  <thead>\n    <tr style=\"text-align: right;\">\n      <th></th>\n      <th>Day</th>\n      <th>Temperature</th>\n      <th>Humidity</th>\n      <th>Wind Speed</th>\n      <th>Comfort Score</th>\n    </tr>\n  </thead>\n  <tbody>\n    <tr>\n      <th>0</th>\n      <td>Monday</td>\n      <td>25</td>\n      <td>60</td>\n      <td>15</td>\n      <td>37.0</td>\n    </tr>\n    <tr>\n      <th>1</th>\n      <td>Tuesday</td>\n      <td>28</td>\n      <td>55</td>\n      <td>10</td>\n      <td>35.2</td>\n    </tr>\n    <tr>\n      <th>2</th>\n      <td>Wednesday</td>\n      <td>30</td>\n      <td>50</td>\n      <td>20</td>\n      <td>36.0</td>\n    </tr>\n    <tr>\n      <th>3</th>\n      <td>Thursday</td>\n      <td>22</td>\n      <td>70</td>\n      <td>10</td>\n      <td>38.8</td>\n    </tr>\n    <tr>\n      <th>4</th>\n      <td>Friday</td>\n      <td>26</td>\n      <td>65</td>\n      <td>8</td>\n      <td>38.0</td>\n    </tr>\n    <tr>\n      <th>5</th>\n      <td>Saturday</td>\n      <td>27</td>\n      <td>60</td>\n      <td>5</td>\n      <td>35.8</td>\n    </tr>\n    <tr>\n      <th>6</th>\n      <td>Sunday</td>\n      <td>24</td>\n      <td>75</td>\n      <td>12</td>\n      <td>42.0</td>\n    </tr>\n  </tbody>\n</table>\n</div>"
          },
          "metadata": {}
        }
      ],
      "execution_count": 17
    },
    {
      "id": "b1d1e7eb-8022-4ae3-8e6f-eaabcf49dd34",
      "cell_type": "code",
      "source": "most_comfortable_day_row = df.loc[df['Comfort Score'].idxmax()] # CORRECTED: Changed idxmin() to idxmax()\nbest_day = most_comfortable_day_row['Day']\nbest_day_comfort_score = most_comfortable_day_row['Comfort Score']\nprint(f\"The best day to go out based on comfort score is: {best_day}\")\nprint(f\"Comfort Score for {best_day}: {best_day_comfort_score:.2f}\")",
      "metadata": {
        "trusted": true,
        "scrolled": true
      },
      "outputs": [
        {
          "name": "stdout",
          "output_type": "stream",
          "text": "The best day to go out based on comfort score is: Sunday\nComfort Score for Sunday: 42.00\n"
        }
      ],
      "execution_count": 18
    },
    {
      "id": "29187b2d-fe70-4132-8183-e5d217c6142b",
      "cell_type": "code",
      "source": "",
      "metadata": {
        "trusted": true
      },
      "outputs": [],
      "execution_count": null
    },
    {
      "id": "d15d81bc-ebab-4b3e-b5d3-19b1d6df4a6d",
      "cell_type": "code",
      "source": "",
      "metadata": {
        "trusted": true
      },
      "outputs": [],
      "execution_count": null
    }
  ]
}