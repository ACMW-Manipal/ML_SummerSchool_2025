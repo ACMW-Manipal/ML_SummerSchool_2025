{
 "cells": [
  {
   "cell_type": "markdown",
   "id": "940a5afe-a7ff-4722-9337-222a0ebae6f1",
   "metadata": {},
   "source": [
    "# Samridhi Dhamija\n",
    "# 240962016\n"
   ]
  },
  {
   "cell_type": "code",
   "execution_count": 160,
   "id": "803c7679-44ec-48fb-88bc-32dedbd0bd0c",
   "metadata": {},
   "outputs": [],
   "source": [
    "import numpy as np\n",
    "import pandas as pd\n",
    "import seaborn as sns\n",
    "import matplotlib.pyplot as plt\n",
    "pd.set_option('display.max_columns',200)"
   ]
  },
  {
   "cell_type": "code",
   "execution_count": 161,
   "id": "bc83d345-c0c9-4e4c-8552-5fe854bc4eee",
   "metadata": {},
   "outputs": [],
   "source": [
    "df = pd.read_csv('weather_data.csv')"
   ]
  },
  {
   "cell_type": "code",
   "execution_count": 162,
   "id": "8b5dc4f0-1e70-4d45-b5fb-ec8f5ca75178",
   "metadata": {},
   "outputs": [
    {
     "name": "stdout",
     "output_type": "stream",
     "text": [
      "Weather Data\n",
      "          Day  Temperature  Humidity  Wind Speed\n",
      "0     Monday           25        60          15\n",
      "1    Tuesday           28        55          10\n",
      "2  Wednesday           30        50          20\n",
      "3   Thursday           22        70          10\n",
      "4     Friday           26        65           8\n",
      "5   Saturday           27        60           5\n",
      "6     Sunday           24        75          12\n"
     ]
    }
   ],
   "source": [
    "print('Weather Data\\n',df)"
   ]
  },
  {
   "cell_type": "code",
   "execution_count": 163,
   "id": "f62293e5-ac2c-407a-8d4d-a7008d244f24",
   "metadata": {},
   "outputs": [
    {
     "name": "stdout",
     "output_type": "stream",
     "text": [
      "Weather Data with Comfort Score\n",
      "          Day  Temperature  Humidity  Wind Speed  Comfort Score\n",
      "0     Monday           25        60          15           37.0\n",
      "1    Tuesday           28        55          10           35.2\n",
      "2  Wednesday           30        50          20           36.0\n",
      "3   Thursday           22        70          10           38.8\n",
      "4     Friday           26        65           8           38.0\n",
      "5   Saturday           27        60           5           35.8\n",
      "6     Sunday           24        75          12           42.0\n"
     ]
    }
   ],
   "source": [
    "df['Comfort Score'] = df['Temperature'] * 0.4 + df['Humidity'] * 0.4 + df['Wind Speed'] * 0.2\n",
    "print('Weather Data with Comfort Score\\n',df)\n"
   ]
  },
  {
   "cell_type": "code",
   "execution_count": 190,
   "id": "a75d3a29-677c-4050-81c8-33579226cbb7",
   "metadata": {},
   "outputs": [
    {
     "data": {
      "text/html": [
       "<div>\n",
       "<style scoped>\n",
       "    .dataframe tbody tr th:only-of-type {\n",
       "        vertical-align: middle;\n",
       "    }\n",
       "\n",
       "    .dataframe tbody tr th {\n",
       "        vertical-align: top;\n",
       "    }\n",
       "\n",
       "    .dataframe thead th {\n",
       "        text-align: right;\n",
       "    }\n",
       "</style>\n",
       "<table border=\"1\" class=\"dataframe\">\n",
       "  <thead>\n",
       "    <tr style=\"text-align: right;\">\n",
       "      <th></th>\n",
       "      <th>Day</th>\n",
       "      <th>Temperature</th>\n",
       "      <th>Humidity</th>\n",
       "      <th>Wind Speed</th>\n",
       "      <th>Comfort Score</th>\n",
       "      <th>Comfort_Score_Temp</th>\n",
       "    </tr>\n",
       "  </thead>\n",
       "  <tbody>\n",
       "    <tr>\n",
       "      <th>6</th>\n",
       "      <td>Sunday</td>\n",
       "      <td>24</td>\n",
       "      <td>75</td>\n",
       "      <td>12</td>\n",
       "      <td>42.0</td>\n",
       "      <td>31.8</td>\n",
       "    </tr>\n",
       "  </tbody>\n",
       "</table>\n",
       "</div>"
      ],
      "text/plain": [
       "      Day  Temperature  Humidity  Wind Speed  Comfort Score  \\\n",
       "6  Sunday           24        75          12           42.0   \n",
       "\n",
       "   Comfort_Score_Temp  \n",
       "6                31.8  "
      ]
     },
     "execution_count": 190,
     "metadata": {},
     "output_type": "execute_result"
    }
   ],
   "source": [
    "best_day = df[df['Comfort Score']==df['Comfort Score'].max()]\n",
    "best_day"
   ]
  },
  {
   "cell_type": "code",
   "execution_count": 192,
   "id": "fde728e2-3919-4659-941e-051ad9f1e7d6",
   "metadata": {},
   "outputs": [
    {
     "name": "stdout",
     "output_type": "stream",
     "text": [
      "The most comfortable day to go out is Sunday\n"
     ]
    }
   ],
   "source": [
    "print(f'The most comfortable day to go out is {best_day['Day'].item()}')"
   ]
  },
  {
   "cell_type": "markdown",
   "id": "df7742ea-e6e5-4b79-91e0-6588f5af9516",
   "metadata": {},
   "source": [
    "### Calculating by changing weights->priortizing temp"
   ]
  },
  {
   "cell_type": "code",
   "execution_count": 198,
   "id": "6afcdff6-f554-4223-aadc-528c84a9a5f3",
   "metadata": {},
   "outputs": [
    {
     "name": "stdout",
     "output_type": "stream",
     "text": [
      "Weather Data with Comfort Score\n",
      "          Day  Temperature  Humidity  Wind Speed  Comfort Score  \\\n",
      "0     Monday           25        60          15           37.0   \n",
      "1    Tuesday           28        55          10           35.2   \n",
      "2  Wednesday           30        50          20           36.0   \n",
      "3   Thursday           22        70          10           38.8   \n",
      "4     Friday           26        65           8           38.0   \n",
      "5   Saturday           27        60           5           35.8   \n",
      "6     Sunday           24        75          12           42.0   \n",
      "\n",
      "   Comfort_Score_Temp  \n",
      "0                30.0  \n",
      "1                29.8  \n",
      "2                32.0  \n",
      "3                29.2  \n",
      "4                30.2  \n",
      "5                29.2  \n",
      "6                31.8  \n",
      "         Day  Temperature  Humidity  Wind Speed  Comfort Score  \\\n",
      "2  Wednesday           30        50          20           36.0   \n",
      "\n",
      "   Comfort_Score_Temp  \n",
      "2                32.0  \n",
      "The most comfortable day to go out is Wednesday with comfort score = 32.0\n"
     ]
    }
   ],
   "source": [
    "df['Comfort_Score_Temp'] = df['Temperature'] * 0.6 + df['Humidity'] * 0.2 + df['Wind Speed'] * 0.2\n",
    "print('Weather Data with Comfort Score\\n',df)\n",
    "\n",
    "best_day_temp = df[df['Comfort_Score_Temp']==df['Comfort_Score_Temp'].max()]\n",
    "print(best_day_temp)\n",
    "\n",
    "print(f'The most comfortable day to go out is {best_day_temp['Day'].item()} with comfort score = {best_day_temp['Comfort_Score_Temp'].item()}')\n"
   ]
  },
  {
   "cell_type": "code",
   "execution_count": null,
   "id": "c10e474b-31eb-49f5-8c32-5e6f4714d13e",
   "metadata": {},
   "outputs": [],
   "source": []
  }
 ],
 "metadata": {
  "kernelspec": {
   "display_name": "Python [conda env:base] *",
   "language": "python",
   "name": "conda-base-py"
  },
  "language_info": {
   "codemirror_mode": {
    "name": "ipython",
    "version": 3
   },
   "file_extension": ".py",
   "mimetype": "text/x-python",
   "name": "python",
   "nbconvert_exporter": "python",
   "pygments_lexer": "ipython3",
   "version": "3.12.7"
  }
 },
 "nbformat": 4,
 "nbformat_minor": 5
}
