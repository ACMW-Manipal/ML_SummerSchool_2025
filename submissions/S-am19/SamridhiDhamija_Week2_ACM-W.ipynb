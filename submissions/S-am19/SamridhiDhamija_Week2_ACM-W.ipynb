{
 "cells": [
  {
   "cell_type": "markdown",
   "id": "96ae5b96-bd6e-425c-8c85-8ca2dac3aa75",
   "metadata": {},
   "source": [
    "# Exploration #\n",
    "Explore the Titanic dataset to identify patterns and factors related to passenger survival using data cleaning, visualization, and EDA techniques. Perform EDA to find patterns in survival based on features like gender, class, age, family aboard, and embarkation point. Use .groupby(), value_counts(), and charts (bar plots, histograms, heatmaps). "
   ]
  },
  {
   "cell_type": "code",
   "execution_count": 458,
   "id": "5e88148a-a77d-4672-84d4-051a5eb59092",
   "metadata": {},
   "outputs": [],
   "source": [
    "import pandas as pd\n",
    "import numpy as np\n",
    "import matplotlib.pylab as plt\n",
    "import seaborn as sns\n",
    "pd.set_option('display.max_columns',20)"
   ]
  },
  {
   "cell_type": "code",
   "execution_count": 459,
   "id": "7cae9be1-5041-4ea6-992d-ba39ebed9e15",
   "metadata": {},
   "outputs": [
    {
     "data": {
      "text/html": [
       "<div>\n",
       "<style scoped>\n",
       "    .dataframe tbody tr th:only-of-type {\n",
       "        vertical-align: middle;\n",
       "    }\n",
       "\n",
       "    .dataframe tbody tr th {\n",
       "        vertical-align: top;\n",
       "    }\n",
       "\n",
       "    .dataframe thead th {\n",
       "        text-align: right;\n",
       "    }\n",
       "</style>\n",
       "<table border=\"1\" class=\"dataframe\">\n",
       "  <thead>\n",
       "    <tr style=\"text-align: right;\">\n",
       "      <th></th>\n",
       "      <th>PassengerId</th>\n",
       "      <th>Survived</th>\n",
       "      <th>Pclass</th>\n",
       "      <th>Name</th>\n",
       "      <th>Sex</th>\n",
       "      <th>Age</th>\n",
       "      <th>SibSp</th>\n",
       "      <th>Parch</th>\n",
       "      <th>Ticket</th>\n",
       "      <th>Fare</th>\n",
       "      <th>Cabin</th>\n",
       "      <th>Embarked</th>\n",
       "    </tr>\n",
       "  </thead>\n",
       "  <tbody>\n",
       "    <tr>\n",
       "      <th>323</th>\n",
       "      <td>324</td>\n",
       "      <td>1</td>\n",
       "      <td>2</td>\n",
       "      <td>Caldwell, Mrs. Albert Francis (Sylvia Mae Harb...</td>\n",
       "      <td>female</td>\n",
       "      <td>22.0</td>\n",
       "      <td>1</td>\n",
       "      <td>1</td>\n",
       "      <td>248738</td>\n",
       "      <td>29.0000</td>\n",
       "      <td>NaN</td>\n",
       "      <td>S</td>\n",
       "    </tr>\n",
       "    <tr>\n",
       "      <th>464</th>\n",
       "      <td>465</td>\n",
       "      <td>0</td>\n",
       "      <td>3</td>\n",
       "      <td>Maisner, Mr. Simon</td>\n",
       "      <td>male</td>\n",
       "      <td>NaN</td>\n",
       "      <td>0</td>\n",
       "      <td>0</td>\n",
       "      <td>A/S 2816</td>\n",
       "      <td>8.0500</td>\n",
       "      <td>NaN</td>\n",
       "      <td>S</td>\n",
       "    </tr>\n",
       "    <tr>\n",
       "      <th>751</th>\n",
       "      <td>752</td>\n",
       "      <td>1</td>\n",
       "      <td>3</td>\n",
       "      <td>Moor, Master. Meier</td>\n",
       "      <td>male</td>\n",
       "      <td>6.0</td>\n",
       "      <td>0</td>\n",
       "      <td>1</td>\n",
       "      <td>392096</td>\n",
       "      <td>12.4750</td>\n",
       "      <td>E121</td>\n",
       "      <td>S</td>\n",
       "    </tr>\n",
       "    <tr>\n",
       "      <th>833</th>\n",
       "      <td>834</td>\n",
       "      <td>0</td>\n",
       "      <td>3</td>\n",
       "      <td>Augustsson, Mr. Albert</td>\n",
       "      <td>male</td>\n",
       "      <td>23.0</td>\n",
       "      <td>0</td>\n",
       "      <td>0</td>\n",
       "      <td>347468</td>\n",
       "      <td>7.8542</td>\n",
       "      <td>NaN</td>\n",
       "      <td>S</td>\n",
       "    </tr>\n",
       "    <tr>\n",
       "      <th>495</th>\n",
       "      <td>496</td>\n",
       "      <td>0</td>\n",
       "      <td>3</td>\n",
       "      <td>Yousseff, Mr. Gerious</td>\n",
       "      <td>male</td>\n",
       "      <td>NaN</td>\n",
       "      <td>0</td>\n",
       "      <td>0</td>\n",
       "      <td>2627</td>\n",
       "      <td>14.4583</td>\n",
       "      <td>NaN</td>\n",
       "      <td>C</td>\n",
       "    </tr>\n",
       "  </tbody>\n",
       "</table>\n",
       "</div>"
      ],
      "text/plain": [
       "     PassengerId  Survived  Pclass  \\\n",
       "323          324         1       2   \n",
       "464          465         0       3   \n",
       "751          752         1       3   \n",
       "833          834         0       3   \n",
       "495          496         0       3   \n",
       "\n",
       "                                                  Name     Sex   Age  SibSp  \\\n",
       "323  Caldwell, Mrs. Albert Francis (Sylvia Mae Harb...  female  22.0      1   \n",
       "464                                 Maisner, Mr. Simon    male   NaN      0   \n",
       "751                                Moor, Master. Meier    male   6.0      0   \n",
       "833                             Augustsson, Mr. Albert    male  23.0      0   \n",
       "495                              Yousseff, Mr. Gerious    male   NaN      0   \n",
       "\n",
       "     Parch    Ticket     Fare Cabin Embarked  \n",
       "323      1    248738  29.0000   NaN        S  \n",
       "464      0  A/S 2816   8.0500   NaN        S  \n",
       "751      1    392096  12.4750  E121        S  \n",
       "833      0    347468   7.8542   NaN        S  \n",
       "495      0      2627  14.4583   NaN        C  "
      ]
     },
     "execution_count": 459,
     "metadata": {},
     "output_type": "execute_result"
    }
   ],
   "source": [
    "df = pd.read_csv('Week2MiniProjectDS.csv')\n",
    "df.sample(5)"
   ]
  },
  {
   "cell_type": "code",
   "execution_count": 460,
   "id": "ba1a150f-ff06-47ad-bd58-9c3c927c1d6f",
   "metadata": {},
   "outputs": [
    {
     "data": {
      "text/plain": [
       "(891, 12)"
      ]
     },
     "execution_count": 460,
     "metadata": {},
     "output_type": "execute_result"
    }
   ],
   "source": [
    "df.shape"
   ]
  },
  {
   "cell_type": "code",
   "execution_count": 461,
   "id": "dac11a3f-18a5-4c99-94ca-b6e2e31be20b",
   "metadata": {},
   "outputs": [
    {
     "data": {
      "text/html": [
       "<div>\n",
       "<style scoped>\n",
       "    .dataframe tbody tr th:only-of-type {\n",
       "        vertical-align: middle;\n",
       "    }\n",
       "\n",
       "    .dataframe tbody tr th {\n",
       "        vertical-align: top;\n",
       "    }\n",
       "\n",
       "    .dataframe thead th {\n",
       "        text-align: right;\n",
       "    }\n",
       "</style>\n",
       "<table border=\"1\" class=\"dataframe\">\n",
       "  <thead>\n",
       "    <tr style=\"text-align: right;\">\n",
       "      <th></th>\n",
       "      <th>PassengerId</th>\n",
       "      <th>Survived</th>\n",
       "      <th>Pclass</th>\n",
       "      <th>Age</th>\n",
       "      <th>SibSp</th>\n",
       "      <th>Parch</th>\n",
       "      <th>Fare</th>\n",
       "    </tr>\n",
       "  </thead>\n",
       "  <tbody>\n",
       "    <tr>\n",
       "      <th>count</th>\n",
       "      <td>891.000000</td>\n",
       "      <td>891.000000</td>\n",
       "      <td>891.000000</td>\n",
       "      <td>714.000000</td>\n",
       "      <td>891.000000</td>\n",
       "      <td>891.000000</td>\n",
       "      <td>891.000000</td>\n",
       "    </tr>\n",
       "    <tr>\n",
       "      <th>mean</th>\n",
       "      <td>446.000000</td>\n",
       "      <td>0.383838</td>\n",
       "      <td>2.308642</td>\n",
       "      <td>29.699118</td>\n",
       "      <td>0.523008</td>\n",
       "      <td>0.381594</td>\n",
       "      <td>32.204208</td>\n",
       "    </tr>\n",
       "    <tr>\n",
       "      <th>std</th>\n",
       "      <td>257.353842</td>\n",
       "      <td>0.486592</td>\n",
       "      <td>0.836071</td>\n",
       "      <td>14.526497</td>\n",
       "      <td>1.102743</td>\n",
       "      <td>0.806057</td>\n",
       "      <td>49.693429</td>\n",
       "    </tr>\n",
       "    <tr>\n",
       "      <th>min</th>\n",
       "      <td>1.000000</td>\n",
       "      <td>0.000000</td>\n",
       "      <td>1.000000</td>\n",
       "      <td>0.420000</td>\n",
       "      <td>0.000000</td>\n",
       "      <td>0.000000</td>\n",
       "      <td>0.000000</td>\n",
       "    </tr>\n",
       "    <tr>\n",
       "      <th>25%</th>\n",
       "      <td>223.500000</td>\n",
       "      <td>0.000000</td>\n",
       "      <td>2.000000</td>\n",
       "      <td>20.125000</td>\n",
       "      <td>0.000000</td>\n",
       "      <td>0.000000</td>\n",
       "      <td>7.910400</td>\n",
       "    </tr>\n",
       "    <tr>\n",
       "      <th>50%</th>\n",
       "      <td>446.000000</td>\n",
       "      <td>0.000000</td>\n",
       "      <td>3.000000</td>\n",
       "      <td>28.000000</td>\n",
       "      <td>0.000000</td>\n",
       "      <td>0.000000</td>\n",
       "      <td>14.454200</td>\n",
       "    </tr>\n",
       "    <tr>\n",
       "      <th>75%</th>\n",
       "      <td>668.500000</td>\n",
       "      <td>1.000000</td>\n",
       "      <td>3.000000</td>\n",
       "      <td>38.000000</td>\n",
       "      <td>1.000000</td>\n",
       "      <td>0.000000</td>\n",
       "      <td>31.000000</td>\n",
       "    </tr>\n",
       "    <tr>\n",
       "      <th>max</th>\n",
       "      <td>891.000000</td>\n",
       "      <td>1.000000</td>\n",
       "      <td>3.000000</td>\n",
       "      <td>80.000000</td>\n",
       "      <td>8.000000</td>\n",
       "      <td>6.000000</td>\n",
       "      <td>512.329200</td>\n",
       "    </tr>\n",
       "  </tbody>\n",
       "</table>\n",
       "</div>"
      ],
      "text/plain": [
       "       PassengerId    Survived      Pclass         Age       SibSp  \\\n",
       "count   891.000000  891.000000  891.000000  714.000000  891.000000   \n",
       "mean    446.000000    0.383838    2.308642   29.699118    0.523008   \n",
       "std     257.353842    0.486592    0.836071   14.526497    1.102743   \n",
       "min       1.000000    0.000000    1.000000    0.420000    0.000000   \n",
       "25%     223.500000    0.000000    2.000000   20.125000    0.000000   \n",
       "50%     446.000000    0.000000    3.000000   28.000000    0.000000   \n",
       "75%     668.500000    1.000000    3.000000   38.000000    1.000000   \n",
       "max     891.000000    1.000000    3.000000   80.000000    8.000000   \n",
       "\n",
       "            Parch        Fare  \n",
       "count  891.000000  891.000000  \n",
       "mean     0.381594   32.204208  \n",
       "std      0.806057   49.693429  \n",
       "min      0.000000    0.000000  \n",
       "25%      0.000000    7.910400  \n",
       "50%      0.000000   14.454200  \n",
       "75%      0.000000   31.000000  \n",
       "max      6.000000  512.329200  "
      ]
     },
     "execution_count": 461,
     "metadata": {},
     "output_type": "execute_result"
    }
   ],
   "source": [
    "df.describe()"
   ]
  },
  {
   "cell_type": "code",
   "execution_count": 462,
   "id": "75c7bf37-9da5-475f-81ba-373b874baf09",
   "metadata": {},
   "outputs": [
    {
     "name": "stdout",
     "output_type": "stream",
     "text": [
      "<class 'pandas.core.frame.DataFrame'>\n",
      "RangeIndex: 891 entries, 0 to 890\n",
      "Data columns (total 12 columns):\n",
      " #   Column       Non-Null Count  Dtype  \n",
      "---  ------       --------------  -----  \n",
      " 0   PassengerId  891 non-null    int64  \n",
      " 1   Survived     891 non-null    int64  \n",
      " 2   Pclass       891 non-null    int64  \n",
      " 3   Name         891 non-null    object \n",
      " 4   Sex          891 non-null    object \n",
      " 5   Age          714 non-null    float64\n",
      " 6   SibSp        891 non-null    int64  \n",
      " 7   Parch        891 non-null    int64  \n",
      " 8   Ticket       891 non-null    object \n",
      " 9   Fare         891 non-null    float64\n",
      " 10  Cabin        204 non-null    object \n",
      " 11  Embarked     889 non-null    object \n",
      "dtypes: float64(2), int64(5), object(5)\n",
      "memory usage: 83.7+ KB\n"
     ]
    }
   ],
   "source": [
    "df.info()"
   ]
  },
  {
   "cell_type": "code",
   "execution_count": 463,
   "id": "893ff8d5-22ba-48ef-99ee-cf6b1cbd1605",
   "metadata": {},
   "outputs": [
    {
     "data": {
      "text/plain": [
       "Index(['PassengerId', 'Survived', 'Pclass', 'Name', 'Sex', 'Age', 'SibSp',\n",
       "       'Parch', 'Ticket', 'Fare', 'Cabin', 'Embarked'],\n",
       "      dtype='object')"
      ]
     },
     "execution_count": 463,
     "metadata": {},
     "output_type": "execute_result"
    }
   ],
   "source": [
    "df.columns"
   ]
  },
  {
   "cell_type": "code",
   "execution_count": 464,
   "id": "a141d046-8a5d-4a42-9597-38dafcd28988",
   "metadata": {},
   "outputs": [
    {
     "data": {
      "text/plain": [
       "PassengerId      0\n",
       "Survived         0\n",
       "Pclass           0\n",
       "Name             0\n",
       "Sex              0\n",
       "Age            177\n",
       "SibSp            0\n",
       "Parch            0\n",
       "Ticket           0\n",
       "Fare             0\n",
       "Cabin          687\n",
       "Embarked         2\n",
       "dtype: int64"
      ]
     },
     "execution_count": 464,
     "metadata": {},
     "output_type": "execute_result"
    }
   ],
   "source": [
    "df.isnull().sum()"
   ]
  },
  {
   "cell_type": "markdown",
   "id": "beb7725f-2637-47d6-8b85-b3967301777c",
   "metadata": {},
   "source": [
    "# Visualization\n",
    "What you will have to do (in this order): \n",
    "i)\tLoad and inspect the data\n",
    "ii)\tPreprocess the data \n",
    "iii)\tVisualize the data: Example plots: survival vs. gender, class distribution, etc.. \n",
    "iv)\tPerform EDA: Identify key trends and correlations & Investigate how variables like age, class, fare, and gender influence survival\n"
   ]
  },
  {
   "cell_type": "markdown",
   "id": "ba6be1d6-3be8-4f86-a60c-0384b5ed44bc",
   "metadata": {},
   "source": [
    "### Gender"
   ]
  },
  {
   "cell_type": "code",
   "execution_count": 467,
   "id": "8b52979e-20fe-4681-acef-ce0f0667d29a",
   "metadata": {},
   "outputs": [
    {
     "name": "stdout",
     "output_type": "stream",
     "text": [
      "Percentage of male and female who survived overall:\n",
      "Sex\n",
      "female    74.203822\n",
      "male      18.890815\n",
      "Name: Survived, dtype: float64\n",
      "\n"
     ]
    },
    {
     "data": {
      "image/png": "[encoded data removed]",
      "text/plain": [
       "<Figure size 640x480 with 1 Axes>"
      ]
     },
     "metadata": {},
     "output_type": "display_data"
    }
   ],
   "source": [
    "df_gender = df.groupby('Sex')['Survived'].mean()*100\n",
    "print(f'Percentage of male and female who survived overall:\\n{df_gender}\\n')\n",
    "sns.barplot(df_gender,color = 'salmon')\n",
    "plt.xlabel('Gender')\n",
    "plt.title('survival vs. gender')\n",
    "plt.show()"
   ]
  },
  {
   "cell_type": "markdown",
   "id": "5e399c57-d80a-4347-bca8-f408d2cccf41",
   "metadata": {},
   "source": [
    "We can say that more women (74.203822%) survived than men(18.890815%)"
   ]
  },
  {
   "cell_type": "markdown",
   "id": "7aa1822b-f4eb-4296-8d23-81129e925488",
   "metadata": {},
   "source": [
    "### Class"
   ]
  },
  {
   "cell_type": "code",
   "execution_count": 470,
   "id": "91a4c9f8-4b78-4384-a80b-596f71bd1b4f",
   "metadata": {},
   "outputs": [
    {
     "name": "stdout",
     "output_type": "stream",
     "text": [
      "Number of people in each class:\n",
      " Pclass\n",
      "1    216\n",
      "2    184\n",
      "3    491\n",
      "Name: count, dtype: int64\n",
      "\n",
      "\n",
      "Survival by Class:\n",
      " Pclass\n",
      "1    136\n",
      "2     87\n",
      "3    119\n",
      "Name: Survived, dtype: int64\n",
      "\n",
      "\n",
      "%of Survivers in respective Classes\n",
      " Pclass\n",
      "1    62.962963\n",
      "2    47.282609\n",
      "3    24.236253\n",
      "Name: Survived, dtype: float64\n",
      "\n",
      "\n"
     ]
    },
    {
     "data": {
      "image/png": "[encoded data removed]",
      "text/plain": [
       "<Figure size 640x480 with 1 Axes>"
      ]
     },
     "metadata": {},
     "output_type": "display_data"
    }
   ],
   "source": [
    "df_people = df['Pclass'].value_counts().sort_index()\n",
    "print('Number of people in each class:\\n',df['Pclass'].value_counts().sort_index())\n",
    "print('\\n')\n",
    "df_Class = df.groupby('Pclass')['Survived'].sum()\n",
    "print('Survival by Class:\\n',df_Class)\n",
    "print('\\n')\n",
    "df_Class_p = df.groupby('Pclass')['Survived'].mean()*100\n",
    "print('%of Survivers in respective Classes\\n',df_Class_p)\n",
    "print('\\n')\n",
    "\n",
    "sns.countplot(data=df, x='Pclass', hue='Survived', palette='pastel')\n",
    "\n",
    "plt.title('Passenger Count and Survival by Class')\n",
    "plt.xlabel('Passenger Class')\n",
    "plt.ylabel('Number of Passengers')\n",
    "plt.legend(title='Survived', labels=['No', 'Yes'])\n",
    "plt.show()"
   ]
  },
  {
   "cell_type": "markdown",
   "id": "74bece24-f870-4781-b439-20161d2f492d",
   "metadata": {},
   "source": [
    "First-class passengers had the highest survival rate (63%), followed by second-class (47%), and third-class (~24%). Although more people were in 3rd class, fewer of them survived compared to other classes."
   ]
  },
  {
   "cell_type": "markdown",
   "id": "22cf238b-e7d8-4b09-a4cc-ef8b0ddc8569",
   "metadata": {},
   "source": [
    "### Age"
   ]
  },
  {
   "cell_type": "code",
   "execution_count": 473,
   "id": "55987e92-491d-4a69-9691-9f1220f22aeb",
   "metadata": {},
   "outputs": [
    {
     "name": "stderr",
     "output_type": "stream",
     "text": [
      "C:\\Users\\sambh\\AppData\\Local\\Temp\\ipykernel_19468\\3670686113.py:2: FutureWarning: The default of observed=False is deprecated and will be changed to True in a future version of pandas. Pass observed=False to retain current behavior or observed=True to adopt the future default and silence this warning.\n",
      "  df_age = df.groupby('AgeGroup')['Survived'].mean()*100\n"
     ]
    },
    {
     "name": "stdout",
     "output_type": "stream",
     "text": [
      "AgeGroup\n",
      "Child(0-12)        57.971014\n",
      "Adult(12-59)       39.256866\n",
      "Elderly(59-120)    26.923077\n",
      "Name: Survived, dtype: float64 \n",
      "\n"
     ]
    },
    {
     "data": {
      "image/png": "[encoded data removed]",
      "text/plain": [
       "<Figure size 640x480 with 1 Axes>"
      ]
     },
     "metadata": {},
     "output_type": "display_data"
    }
   ],
   "source": [
    "df['AgeGroup'] = pd.cut(df['Age'], bins=[0, 12, 59, 120], labels=['Child(0-12)', 'Adult(12-59)', 'Elderly(59-120)'])\n",
    "df_age = df.groupby('AgeGroup')['Survived'].mean()*100\n",
    "print(df_age,'\\n')\n",
    "sns.barplot(df_age , color = 'salmon')\n",
    "plt.title('Survival by Class')\n",
    "plt.xlabel('Age Group')\n",
    "plt.show()"
   ]
  },
  {
   "cell_type": "markdown",
   "id": "1cc5d5de-fe5c-454b-ab88-4b24824b615e",
   "metadata": {},
   "source": [
    "### Family Abroad"
   ]
  },
  {
   "cell_type": "code",
   "execution_count": 475,
   "id": "c324d0e9-aabf-4fb9-b1a2-daab7de62ca8",
   "metadata": {},
   "outputs": [
    {
     "data": {
      "text/html": [
       "<div>\n",
       "<style scoped>\n",
       "    .dataframe tbody tr th:only-of-type {\n",
       "        vertical-align: middle;\n",
       "    }\n",
       "\n",
       "    .dataframe tbody tr th {\n",
       "        vertical-align: top;\n",
       "    }\n",
       "\n",
       "    .dataframe thead th {\n",
       "        text-align: right;\n",
       "    }\n",
       "</style>\n",
       "<table border=\"1\" class=\"dataframe\">\n",
       "  <thead>\n",
       "    <tr style=\"text-align: right;\">\n",
       "      <th></th>\n",
       "      <th>PassengerId</th>\n",
       "      <th>Survived</th>\n",
       "      <th>Pclass</th>\n",
       "      <th>Name</th>\n",
       "      <th>Sex</th>\n",
       "      <th>Age</th>\n",
       "      <th>SibSp</th>\n",
       "      <th>Parch</th>\n",
       "      <th>Ticket</th>\n",
       "      <th>Fare</th>\n",
       "      <th>Cabin</th>\n",
       "      <th>Embarked</th>\n",
       "      <th>AgeGroup</th>\n",
       "      <th>family</th>\n",
       "    </tr>\n",
       "  </thead>\n",
       "  <tbody>\n",
       "    <tr>\n",
       "      <th>134</th>\n",
       "      <td>135</td>\n",
       "      <td>0</td>\n",
       "      <td>2</td>\n",
       "      <td>Sobey, Mr. Samuel James Hayden</td>\n",
       "      <td>male</td>\n",
       "      <td>25.0</td>\n",
       "      <td>0</td>\n",
       "      <td>0</td>\n",
       "      <td>C.A. 29178</td>\n",
       "      <td>13.0000</td>\n",
       "      <td>NaN</td>\n",
       "      <td>S</td>\n",
       "      <td>Adult(12-59)</td>\n",
       "      <td>0</td>\n",
       "    </tr>\n",
       "    <tr>\n",
       "      <th>438</th>\n",
       "      <td>439</td>\n",
       "      <td>0</td>\n",
       "      <td>1</td>\n",
       "      <td>Fortune, Mr. Mark</td>\n",
       "      <td>male</td>\n",
       "      <td>64.0</td>\n",
       "      <td>1</td>\n",
       "      <td>4</td>\n",
       "      <td>19950</td>\n",
       "      <td>263.0000</td>\n",
       "      <td>C23 C25 C27</td>\n",
       "      <td>S</td>\n",
       "      <td>Elderly(59-120)</td>\n",
       "      <td>5</td>\n",
       "    </tr>\n",
       "    <tr>\n",
       "      <th>738</th>\n",
       "      <td>739</td>\n",
       "      <td>0</td>\n",
       "      <td>3</td>\n",
       "      <td>Ivanoff, Mr. Kanio</td>\n",
       "      <td>male</td>\n",
       "      <td>NaN</td>\n",
       "      <td>0</td>\n",
       "      <td>0</td>\n",
       "      <td>349201</td>\n",
       "      <td>7.8958</td>\n",
       "      <td>NaN</td>\n",
       "      <td>S</td>\n",
       "      <td>NaN</td>\n",
       "      <td>0</td>\n",
       "    </tr>\n",
       "    <tr>\n",
       "      <th>238</th>\n",
       "      <td>239</td>\n",
       "      <td>0</td>\n",
       "      <td>2</td>\n",
       "      <td>Pengelly, Mr. Frederick William</td>\n",
       "      <td>male</td>\n",
       "      <td>19.0</td>\n",
       "      <td>0</td>\n",
       "      <td>0</td>\n",
       "      <td>28665</td>\n",
       "      <td>10.5000</td>\n",
       "      <td>NaN</td>\n",
       "      <td>S</td>\n",
       "      <td>Adult(12-59)</td>\n",
       "      <td>0</td>\n",
       "    </tr>\n",
       "    <tr>\n",
       "      <th>57</th>\n",
       "      <td>58</td>\n",
       "      <td>0</td>\n",
       "      <td>3</td>\n",
       "      <td>Novel, Mr. Mansouer</td>\n",
       "      <td>male</td>\n",
       "      <td>28.5</td>\n",
       "      <td>0</td>\n",
       "      <td>0</td>\n",
       "      <td>2697</td>\n",
       "      <td>7.2292</td>\n",
       "      <td>NaN</td>\n",
       "      <td>C</td>\n",
       "      <td>Adult(12-59)</td>\n",
       "      <td>0</td>\n",
       "    </tr>\n",
       "  </tbody>\n",
       "</table>\n",
       "</div>"
      ],
      "text/plain": [
       "     PassengerId  Survived  Pclass                             Name   Sex  \\\n",
       "134          135         0       2   Sobey, Mr. Samuel James Hayden  male   \n",
       "438          439         0       1                Fortune, Mr. Mark  male   \n",
       "738          739         0       3               Ivanoff, Mr. Kanio  male   \n",
       "238          239         0       2  Pengelly, Mr. Frederick William  male   \n",
       "57            58         0       3              Novel, Mr. Mansouer  male   \n",
       "\n",
       "      Age  SibSp  Parch      Ticket      Fare        Cabin Embarked  \\\n",
       "134  25.0      0      0  C.A. 29178   13.0000          NaN        S   \n",
       "438  64.0      1      4       19950  263.0000  C23 C25 C27        S   \n",
       "738   NaN      0      0      349201    7.8958          NaN        S   \n",
       "238  19.0      0      0       28665   10.5000          NaN        S   \n",
       "57   28.5      0      0        2697    7.2292          NaN        C   \n",
       "\n",
       "            AgeGroup  family  \n",
       "134     Adult(12-59)       0  \n",
       "438  Elderly(59-120)       5  \n",
       "738              NaN       0  \n",
       "238     Adult(12-59)       0  \n",
       "57      Adult(12-59)       0  "
      ]
     },
     "execution_count": 475,
     "metadata": {},
     "output_type": "execute_result"
    }
   ],
   "source": [
    "df['family'] = df['SibSp']+df['Parch']\n",
    "df.sample(5)"
   ]
  },
  {
   "cell_type": "code",
   "execution_count": 476,
   "id": "67c9a3d2-2acc-464f-aa71-df832bdf3d66",
   "metadata": {},
   "outputs": [
    {
     "data": {
      "text/plain": [
       "array([ 1,  0,  4,  2,  6,  5,  3,  7, 10], dtype=int64)"
      ]
     },
     "execution_count": 476,
     "metadata": {},
     "output_type": "execute_result"
    }
   ],
   "source": [
    "df['family'].unique()"
   ]
  },
  {
   "cell_type": "code",
   "execution_count": 477,
   "id": "1bc6bf16-39b7-4c4c-ad90-5d7c6dd37a11",
   "metadata": {},
   "outputs": [
    {
     "name": "stdout",
     "output_type": "stream",
     "text": [
      "family\n",
      "0     30.353818\n",
      "1     55.279503\n",
      "2     57.843137\n",
      "3     72.413793\n",
      "4     20.000000\n",
      "5     13.636364\n",
      "6     33.333333\n",
      "7      0.000000\n",
      "10     0.000000\n",
      "Name: Survived, dtype: float64\n"
     ]
    },
    {
     "name": "stderr",
     "output_type": "stream",
     "text": [
      "C:\\Users\\sambh\\AppData\\Local\\Temp\\ipykernel_19468\\1453111484.py:4: FutureWarning: \n",
      "\n",
      "Passing `palette` without assigning `hue` is deprecated and will be removed in v0.14.0. Assign the `x` variable to `hue` and set `legend=False` for the same effect.\n",
      "\n",
      "  sns.boxplot(x=df_family.index,y= df_family.values, palette='pastel')\n"
     ]
    },
    {
     "data": {
      "text/plain": [
       "<Axes: xlabel='family'>"
      ]
     },
     "execution_count": 477,
     "metadata": {},
     "output_type": "execute_result"
    },
    {
     "data": {
      "image/png": "[encoded data removed]",
      "text/plain": [
       "<Figure size 640x480 with 1 Axes>"
      ]
     },
     "metadata": {},
     "output_type": "display_data"
    }
   ],
   "source": [
    "df_family = df.groupby('family')['Survived'].mean()*100\n",
    "print(survival_by_family)\n",
    "\n",
    "sns.boxplot(x=df_family.index,y= df_family.values, palette='pastel')"
   ]
  },
  {
   "cell_type": "markdown",
   "id": "2222177c-5d29-4183-b7ab-392c3f2c7623",
   "metadata": {},
   "source": [
    "Solo travelers (FamilyAboard = 0) had a lower survival rate\n",
    "\n",
    "Passengers with 1–3 family members had better chances\n",
    "\n",
    "Large families (5+) had much lower survival rates"
   ]
  },
  {
   "cell_type": "markdown",
   "id": "5c219721-9824-453a-9164-4075b4495f4e",
   "metadata": {},
   "source": [
    "### Port of Embarkation\t"
   ]
  },
  {
   "cell_type": "code",
   "execution_count": 480,
   "id": "32e3a7d9-cdad-44c1-9c62-59da83ec8d3d",
   "metadata": {},
   "outputs": [
    {
     "name": "stdout",
     "output_type": "stream",
     "text": [
      "Embarked\n",
      "Cherbourg      55.357143\n",
      "Queenstown     38.961039\n",
      "Southampton    33.695652\n",
      "Name: Survived, dtype: float64\n"
     ]
    },
    {
     "data": {
      "text/plain": [
       "Text(0.5, 0, 'Port Name')"
      ]
     },
     "execution_count": 480,
     "metadata": {},
     "output_type": "execute_result"
    },
    {
     "data": {
      "image/png": "[encoded data removed]",
      "text/plain": [
       "<Figure size 640x480 with 1 Axes>"
      ]
     },
     "metadata": {},
     "output_type": "display_data"
    }
   ],
   "source": [
    "port_labels = {'C': 'Cherbourg', 'Q': 'Queenstown', 'S': 'Southampton'}\n",
    "df['Embarked'] = df['Embarked'].map(port_labels)\n",
    "df_port = df.groupby('Embarked')['Survived'].mean()*100\n",
    "print(df_port )\n",
    "\n",
    "sns.barplot(df_port , color='salmon')\n",
    "plt.title('Survival by Port of Embarkation')\n",
    "plt.xlabel('Port Name')"
   ]
  },
  {
   "cell_type": "markdown",
   "id": "8b81b32f-9514-492a-b9f2-770ed95b4b9d",
   "metadata": {},
   "source": [
    "### Fare"
   ]
  },
  {
   "cell_type": "code",
   "execution_count": 482,
   "id": "b4b2fa72-4a43-4934-ae2c-df772106dcfd",
   "metadata": {},
   "outputs": [
    {
     "name": "stdout",
     "output_type": "stream",
     "text": [
      "Number of people divided on the basis of the fares\n",
      "\n",
      "FareGroup\n",
      "Low          500\n",
      "Mid          216\n",
      "High         107\n",
      "Very High     53\n",
      "Name: count, dtype: int64 \n",
      "\n",
      "Percentage of people survived categorized by the fares they paid\n",
      "\n",
      "FareGroup\n",
      "Low          28.400000\n",
      "Mid          41.666667\n",
      "High         65.420561\n",
      "Very High    73.584906\n",
      "Name: Survived, dtype: float64 \n",
      "\n"
     ]
    },
    {
     "name": "stderr",
     "output_type": "stream",
     "text": [
      "C:\\Users\\sambh\\AppData\\Local\\Temp\\ipykernel_19468\\2422701803.py:2: FutureWarning: The default of observed=False is deprecated and will be changed to True in a future version of pandas. Pass observed=False to retain current behavior or observed=True to adopt the future default and silence this warning.\n",
      "  df_fare_sur = df.groupby('FareGroup')['Survived'].mean()*100\n"
     ]
    },
    {
     "data": {
      "text/plain": [
       "Text(0.5, 1.0, 'Fare Distribution by Survival')"
      ]
     },
     "execution_count": 482,
     "metadata": {},
     "output_type": "execute_result"
    },
    {
     "data": {
      "image/png": "[encoded data removed]",
      "text/plain": [
       "<Figure size 640x480 with 1 Axes>"
      ]
     },
     "metadata": {},
     "output_type": "display_data"
    }
   ],
   "source": [
    "df['FareGroup'] = pd.cut(df['Fare'], bins=[0, 20, 50, 100, 600], labels=['Low', 'Mid', 'High', 'Very High'])\n",
    "df_fare_sur = df.groupby('FareGroup')['Survived'].mean()*100\n",
    "\n",
    "print('Number of people divided on the basis of the fares\\n')\n",
    "print(df['FareGroup'].value_counts(),'\\n')\n",
    "print('Percentage of people survived categorized by the fares they paid\\n')\n",
    "print(df_fare_sur,'\\n')\n",
    "\n",
    "sns.violinplot(data=df, x='Fare', hue='Survived', palette='pastel')\n",
    "plt.title('Fare Distribution by Survival')\n"
   ]
  },
  {
   "cell_type": "markdown",
   "id": "a92013ce-0268-4044-b7e2-566ce05fbf84",
   "metadata": {},
   "source": [
    " Passengers who paid higher fares were more likely to survive. The average fare paid by survivors was significantly higher than that of non-survivors, and survival rates increased with fare bracket."
   ]
  },
  {
   "cell_type": "code",
   "execution_count": null,
   "id": "c9c39e39-efdb-4c27-8223-2418a3d52eca",
   "metadata": {},
   "outputs": [],
   "source": []
  }
 ],
 "metadata": {
  "kernelspec": {
   "display_name": "Python [conda env:base] *",
   "language": "python",
   "name": "conda-base-py"
  },
  "language_info": {
   "codemirror_mode": {
    "name": "ipython",
    "version": 3
   },
   "file_extension": ".py",
   "mimetype": "text/x-python",
   "name": "python",
   "nbconvert_exporter": "python",
   "pygments_lexer": "ipython3",
   "version": "3.12.7"
  }
 },
 "nbformat": 4,
 "nbformat_minor": 5
}
